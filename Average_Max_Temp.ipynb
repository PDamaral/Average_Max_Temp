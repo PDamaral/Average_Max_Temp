{
 "cells": [
  {
   "cell_type": "markdown",
   "id": "d02adeb7-bfae-4098-8ccf-c3d411de349a",
   "metadata": {},
   "source": [
    "### Scope: Have a list of cities and return the average maximum temperature predicted for the next 7 days (including the current day).\n",
    "\n",
    "\n",
    "\n",
    "\n"
   ]
  },
  {
   "cell_type": "markdown",
   "id": "e5f1910a-8118-41cb-9289-0db047833b3f",
   "metadata": {},
   "source": [
    "Description:\n",
    "The initial request was to use the MetaWeather API, but it is no longer working, and all callbacks returned errors.\n",
    "According to my research the API was turned off.\n",
    "\n",
    "The solution was pivoted to another public-use API, open-meteo (https://open-meteo.com/en/docs?), which is functional and contains the necessary information for the initial project request.\n",
    "\n",
    "Below is the code used to fulfill the scope for three cities: Salt Lake City, Los Angeles, and Boise, Idaho.\n",
    "\n",
    "The latitude and longitude of each city are required; this can be found on the API provider's website, as per the link above.\n",
    "\n",
    "By providing a list of city names, latitude, and longitude, the \"get_weekly_avg_high\" function is used. This function parallelizes API calls, allowing up to 5 workers to be called simultaneously. The \"fetch_city_weather\" function queries the API, extracts the data, and calculates the average maximum temperature for the next 7 days for each city.\n",
    "\n",
    "The result is a dataframe with the features city name, latitude, longitude, and average_maximum_temperature in °C.\n",
    "\n",
    "Above each snippet is a brief description of its function."
   ]
  },
  {
   "cell_type": "markdown",
   "id": "8a0c4a71-9b7a-4915-934d-c31413e1705a",
   "metadata": {},
   "source": [
    "**Import of libraries used as API query, data manipulation and processing parallelism.**"
   ]
  },
  {
   "cell_type": "code",
   "execution_count": 1,
   "id": "f8d20163-7d78-4319-8bd0-a40abc0ea151",
   "metadata": {},
   "outputs": [],
   "source": [
    "import requests\n",
    "import pandas as pd\n",
    "from collections import defaultdict\n",
    "from datetime import datetime\n",
    "from typing import List, Tuple\n",
    "from concurrent.futures import ThreadPoolExecutor, as_completed"
   ]
  },
  {
   "cell_type": "markdown",
   "id": "7ec66c89-7427-485b-9320-731ee3012cef",
   "metadata": {},
   "source": [
    "**Definition of the API call function with security warnings in case of any deviation from the expected result.**"
   ]
  },
  {
   "cell_type": "code",
   "execution_count": 2,
   "id": "3a300cc6-f80b-4eb8-b699-972059e3dae1",
   "metadata": {},
   "outputs": [],
   "source": [
    "def fetch_city_weather(city: str, lat: float, lon: float):\n",
    "    try:\n",
    "        url = f\"https://api.open-meteo.com/v1/forecast?latitude={lat}&longitude={lon}&hourly=temperature_2m\"\n",
    "        response = requests.get(url, timeout=10)\n",
    "        response.raise_for_status()\n",
    "        data = response.json()\n",
    "\n",
    "        if \"hourly\" not in data or \"time\" not in data[\"hourly\"] or \"temperature_2m\" not in data[\"hourly\"]:\n",
    "            return (city, lat, lon, \"⚠️ Missing fields\")\n",
    "\n",
    "        times = data[\"hourly\"][\"time\"]\n",
    "        temps = data[\"hourly\"][\"temperature_2m\"]\n",
    "\n",
    "        if not times or not temps or len(times) != len(temps):\n",
    "            return (city, lat, lon, \"⚠️ Incomplete data\")\n",
    "\n",
    "        daily_temps = defaultdict(list)\n",
    "        for t, temp in zip(times, temps):\n",
    "            date = datetime.fromisoformat(t).date()\n",
    "            daily_temps[date].append(temp)\n",
    "\n",
    "        if not daily_temps:\n",
    "            return (city, lat, lon, \"⚠️ No daily data\")\n",
    "\n",
    "        daily_highs = {date: max(values) for date, values in daily_temps.items()}\n",
    "        first_week = list(daily_highs.values())[:7]\n",
    "        if not first_week:\n",
    "            return (city, lat, lon, \"⚠️ No 7-day forecast\")\n",
    "\n",
    "        avg_high = sum(first_week) / len(first_week)\n",
    "        return (city, lat, lon, round(avg_high, 1))\n",
    "\n",
    "    except requests.exceptions.RequestException as e:\n",
    "        return (city, lat, lon, f\"⚠️ Request failed: {e}\")\n",
    "    except Exception as e:\n",
    "        return (city, lat, lon, f\"⚠️ Unexpected error: {e}\")"
   ]
  },
  {
   "cell_type": "markdown",
   "id": "4b6dd7c9-9ddf-469b-a878-d4b954ec1cd0",
   "metadata": {},
   "source": [
    "**Definition of the function that invokes the caller function in parallel and groups the results into a dataframe.**"
   ]
  },
  {
   "cell_type": "code",
   "execution_count": 3,
   "id": "43072373-6b28-400b-a97d-0a82911497fc",
   "metadata": {},
   "outputs": [],
   "source": [
    "def get_weekly_avg_high(locations: List[Tuple[str, float, float]]) -> pd.DataFrame:\n",
    "    results = []\n",
    "\n",
    "    with ThreadPoolExecutor(max_workers=5) as executor:\n",
    "        future_to_city = {executor.submit(fetch_city_weather, city, lat, lon): (city, lat, lon) for city, lat, lon in locations}\n",
    "\n",
    "        for future in as_completed(future_to_city):\n",
    "            result = future.result()\n",
    "            results.append(result)\n",
    "\n",
    "    df = pd.DataFrame(results, columns=[\"City\", \"Latitude\", \"Longitude\", \"Avg_Weekly_High °C\"])\n",
    "    return df"
   ]
  },
  {
   "cell_type": "markdown",
   "id": "c1b4b760-8397-4398-9ede-e264d3660c16",
   "metadata": {},
   "source": [
    "**Creating the list of cities that will be used in the API query.**"
   ]
  },
  {
   "cell_type": "code",
   "execution_count": 4,
   "id": "b15811dc-70db-45af-8ce5-0c1d40619938",
   "metadata": {},
   "outputs": [],
   "source": [
    "cities = [\n",
    "        (\"Salt Lake City\", 40.7608, -111.8911),\n",
    "        (\"Los Angeles\", 34.0522, -118.2437),\n",
    "        (\"Boise\",43.6135, -116.2035)\n",
    "    ]  "
   ]
  },
  {
   "cell_type": "markdown",
   "id": "5f2bcf76-47fb-4770-a80c-682b50d1aa9c",
   "metadata": {},
   "source": [
    "**Function invocation.**"
   ]
  },
  {
   "cell_type": "code",
   "execution_count": 5,
   "id": "862576b6-03a7-449a-b66e-4880b293c637",
   "metadata": {},
   "outputs": [],
   "source": [
    "weekly_avgs = get_weekly_avg_high(cities)"
   ]
  },
  {
   "cell_type": "markdown",
   "id": "5c3f6a1d-17ce-43f0-9af2-8a0b21a7d299",
   "metadata": {},
   "source": [
    "**End result.**"
   ]
  },
  {
   "cell_type": "code",
   "execution_count": 6,
   "id": "f4cc4a62-352c-470f-a1fb-68c4202d9b9a",
   "metadata": {},
   "outputs": [
    {
     "data": {
      "text/html": [
       "<div>\n",
       "<style scoped>\n",
       "    .dataframe tbody tr th:only-of-type {\n",
       "        vertical-align: middle;\n",
       "    }\n",
       "\n",
       "    .dataframe tbody tr th {\n",
       "        vertical-align: top;\n",
       "    }\n",
       "\n",
       "    .dataframe thead th {\n",
       "        text-align: right;\n",
       "    }\n",
       "</style>\n",
       "<table border=\"1\" class=\"dataframe\">\n",
       "  <thead>\n",
       "    <tr style=\"text-align: right;\">\n",
       "      <th></th>\n",
       "      <th>City</th>\n",
       "      <th>Latitude</th>\n",
       "      <th>Longitude</th>\n",
       "      <th>Avg_Weekly_High °C</th>\n",
       "    </tr>\n",
       "  </thead>\n",
       "  <tbody>\n",
       "    <tr>\n",
       "      <th>0</th>\n",
       "      <td>Salt Lake City</td>\n",
       "      <td>40.7608</td>\n",
       "      <td>-111.8911</td>\n",
       "      <td>34.6</td>\n",
       "    </tr>\n",
       "    <tr>\n",
       "      <th>1</th>\n",
       "      <td>Boise</td>\n",
       "      <td>43.6135</td>\n",
       "      <td>-116.2035</td>\n",
       "      <td>36.9</td>\n",
       "    </tr>\n",
       "    <tr>\n",
       "      <th>2</th>\n",
       "      <td>Los Angeles</td>\n",
       "      <td>34.0522</td>\n",
       "      <td>-118.2437</td>\n",
       "      <td>34.5</td>\n",
       "    </tr>\n",
       "  </tbody>\n",
       "</table>\n",
       "</div>"
      ],
      "text/plain": [
       "             City  Latitude  Longitude  Avg_Weekly_High °C\n",
       "0  Salt Lake City   40.7608  -111.8911                34.6\n",
       "1           Boise   43.6135  -116.2035                36.9\n",
       "2     Los Angeles   34.0522  -118.2437                34.5"
      ]
     },
     "execution_count": 6,
     "metadata": {},
     "output_type": "execute_result"
    }
   ],
   "source": [
    "weekly_avgs"
   ]
  }
 ],
 "metadata": {
  "kernelspec": {
   "display_name": "Python [conda env:base] *",
   "language": "python",
   "name": "conda-base-py"
  },
  "language_info": {
   "codemirror_mode": {
    "name": "ipython",
    "version": 3
   },
   "file_extension": ".py",
   "mimetype": "text/x-python",
   "name": "python",
   "nbconvert_exporter": "python",
   "pygments_lexer": "ipython3",
   "version": "3.13.5"
  }
 },
 "nbformat": 4,
 "nbformat_minor": 5
}
